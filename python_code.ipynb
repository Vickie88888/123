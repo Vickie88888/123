#This is for week 1 capstone
import pandas as pd
import numpy as pd
print('Hello Capstone Project Course!')
